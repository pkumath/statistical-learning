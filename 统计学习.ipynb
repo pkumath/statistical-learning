{
 "cells": [
  {
   "cell_type": "code",
   "execution_count": 1,
   "metadata": {},
   "outputs": [],
   "source": [
    "import pandas as pd\n",
    "import numpy as np\n",
    "import matplotlib.pyplot as plt\n",
    "import random\n",
    "%matplotlib inline\n",
    "plt.rc(\"font\", family = \"MicroSoft YaHei\", weight = \"bold\") # 防止中文乱码"
   ]
  },
  {
   "cell_type": "markdown",
   "metadata": {},
   "source": [
    "#### 简单起见只考虑解\n",
    "$$\n",
    "\\frac{1}{2}||y-x\\beta||^2+\\mu||\\beta||_{1,2}\n",
    "$$\n",
    "#### 的问题，其中$\\beta$是一维向量，解法是采用近似点梯度（可能先实现次梯度下降，效率不重要）"
   ]
  },
  {
   "cell_type": "markdown",
   "metadata": {},
   "source": [
    "#### 相关系数聚类算法"
   ]
  },
  {
   "cell_type": "code",
   "execution_count": 398,
   "metadata": {},
   "outputs": [],
   "source": [
    "def cor_means(k,x):\n",
    "    dic = {}\n",
    "    cls = {}\n",
    "    for i in range(k):\n",
    "        dic[i] = x[:,2*i]\n",
    "        cls[i] = []\n",
    "    it = 0\n",
    "    while it < 10:\n",
    "        for i in range(k):\n",
    "            cls[i] = []\n",
    "        for j in range(x.shape[1]):\n",
    "            corr = [pd.Series(x[:,j]).corr(pd.Series(dic[i])) for i in range(k)]\n",
    "            for s in range(k):\n",
    "                if corr[s] == max(corr):\n",
    "                    cls[s].append(j)\n",
    "        for i in range(k):\n",
    "            new_i = x[:,cls[i][0]]\n",
    "            for j in range(1,len(cls[i])):\n",
    "                new_i += x[:,cls[i][j]]\n",
    "            dic[i] = new_i/np.linalg.norm(new_i,ord=2)\n",
    "        it += 1\n",
    "    corr = [pd.Series(x[:,3]).corr(pd.Series(dic[i])) for i in range(k)]\n",
    "    #print(corr)\n",
    "    return cls"
   ]
  },
  {
   "cell_type": "markdown",
   "metadata": {},
   "source": [
    "#### 根据相关系数聚类得到分组"
   ]
  },
  {
   "cell_type": "code",
   "execution_count": 404,
   "metadata": {},
   "outputs": [],
   "source": [
    "def find_div(k,x,beta):\n",
    "    dic = cor_means(k,x)\n",
    "    beta_new = np.zeros(beta.shape)\n",
    "    x_new = np.zeros(x.shape)\n",
    "    j = 0\n",
    "    kk = 0\n",
    "    div = []\n",
    "    while j < x.shape[1]:\n",
    "        s = len(dic[kk])\n",
    "        beta_new[j:j+s] = beta[dic[kk]].copy()\n",
    "        x_new[j:j+s,:] = x[dic[kk],:].copy()\n",
    "        div.append([j,j+s])\n",
    "        j += s\n",
    "        kk += 1\n",
    "    return x_new,beta_new,div"
   ]
  },
  {
   "cell_type": "markdown",
   "metadata": {
    "scrolled": true
   },
   "source": [
    "#### 关于给定分组的组LASSO的次梯度下降算法"
   ]
  },
  {
   "cell_type": "code",
   "execution_count": 432,
   "metadata": {},
   "outputs": [],
   "source": [
    "#定义求值的函数\n",
    "def f(y,x,beta,mu,div):\n",
    "    return 0.5*np.linalg.norm(y-np.dot(x,beta), ord=2)**2+mu*g(beta,div)\n",
    "\n",
    "def g(beta,div):\n",
    "    s = 0\n",
    "    for dd in div:\n",
    "        s += np.linalg.norm(beta[dd[0]:dd[1]],ord=2)\n",
    "    return s\n",
    "\n",
    "def subgradient(beta,div):\n",
    "    sub = np.zeros(beta.shape)\n",
    "    for dd in div:\n",
    "        if np.linalg.norm(beta[dd[0]:dd[1]])>0:\n",
    "            sub[dd[0]:dd[1]] = beta[dd[0]:dd[1]]/np.linalg.norm(beta[dd[0]:dd[1]])\n",
    "    return sub\n",
    "\n",
    "def sub_dec(x,y,mu,beta0,div):\n",
    "    k = 0\n",
    "    t = 1e-5\n",
    "    beta = beta0.copy()\n",
    "    val = [f(y,x,beta,mu,div)]\n",
    "    bb = [beta]\n",
    "\n",
    "    while k < 100000:\n",
    "        beta -= t*(np.dot(x.T,np.dot(x,beta)-y)+mu*subgradient(beta,div))\n",
    "        ff = f(y,x,beta,mu,div)\n",
    "        if abs(ff-val[-1]) < 1e-10:\n",
    "            break\n",
    "        val.append(ff)\n",
    "        bb.append(beta)\n",
    "        k += 1\n",
    "        #t /= (k+1)/k\n",
    "    return beta,val\n",
    "\n",
    "def sparsity(beta):\n",
    "    return np.sum(abs(beta)>1e-4*np.sum(abs(beta)))/len(beta)"
   ]
  },
  {
   "cell_type": "markdown",
   "metadata": {},
   "source": [
    "#### Elastic Net的次梯度下降算法，传入分组为单个分组"
   ]
  },
  {
   "cell_type": "code",
   "execution_count": 431,
   "metadata": {},
   "outputs": [],
   "source": [
    "#定义求值的函数\n",
    "def e_f(y,x,beta,mu1,mu2,div):\n",
    "    return 0.5*np.linalg.norm(y-np.dot(x,beta), ord=2)**2+e_g(beta,mu1,mu2,div)\n",
    "\n",
    "def e_g(beta,mu1,mu2,div):\n",
    "    s = 0\n",
    "    for dd in div:\n",
    "        s += mu1*np.linalg.norm(beta[dd[0]:dd[1]],ord=2)**2+mu2*np.linalg.norm(beta[dd[0]:dd[1]],ord=1)\n",
    "    return s\n",
    "\n",
    "def e_subgradient(beta,mu1,mu2,div):\n",
    "    sub = np.zeros(beta.shape)\n",
    "    for dd in div:\n",
    "        if np.linalg.norm(beta[dd[0]:dd[1]])>0:\n",
    "            sub[dd[0]:dd[1]] = mu1*beta[dd[0]:dd[1]]/np.linalg.norm(beta[dd[0]:dd[1]])\n",
    "            for i in range(dd[0],dd[1]):\n",
    "                if sub[i] > 0:\n",
    "                    sub[i] += mu2\n",
    "                else:\n",
    "                    sub[i] -= mu2\n",
    "    return sub\n",
    "\n",
    "def elastic(x,y,mu1,mu2,beta0,div):\n",
    "    k = 0\n",
    "    t = 1e-5\n",
    "    beta = beta0.copy()\n",
    "    val = [e_f(y,x,beta,mu1,mu2,div)]\n",
    "    bb = [beta]\n",
    "\n",
    "    while k < 100000:\n",
    "        beta -= t*(np.dot(x.T,np.dot(x,beta)-y)+e_subgradient(beta,mu1,mu2,div))\n",
    "        ff = e_f(y,x,beta,mu1,mu2,div)\n",
    "        if abs(ff-val[-1]) < 1e-10:\n",
    "            break\n",
    "        val.append(ff)\n",
    "        bb.append(beta)\n",
    "        k += 1\n",
    "        #t /= (k+1)/k\n",
    "    return beta,val\n",
    "\n",
    "def sparsity(beta):\n",
    "    return np.sum(abs(beta)>1e-4*np.sum(abs(beta)))/len(beta)"
   ]
  },
  {
   "cell_type": "markdown",
   "metadata": {},
   "source": [
    "#### 生成数据，组内高度相关"
   ]
  },
  {
   "cell_type": "code",
   "execution_count": 405,
   "metadata": {},
   "outputs": [],
   "source": [
    "p = 20 #beta的维度\n",
    "n = 100 #样本个数\n",
    "\n",
    "#初始化真实的beta\n",
    "beta = np.random.randn(p)\n",
    "div = [[2*i,2*i+2] for i in range(p//2)] #分组方式\n",
    "for i in range(p//2):\n",
    "    if i%2 == 0:\n",
    "        beta[div[i][0]:div[i][1]] = 0\n",
    "x = np.zeros([n,p])\n",
    "for i in range(p//2):\n",
    "    x[:,2*i] = np.random.randn(n).T\n",
    "    x[:,2*i+1] = x[:,2*i]*2+2*np.random.randn(n).T\n",
    "y = np.dot(x,beta)\n",
    "y += 0.01*np.random.randn(n)\n",
    "\n",
    "k = p//2\n",
    "x_new,beta_new,div_new = find_div(k,x,beta)\n",
    "y_new = np.dot(x_new,beta_new)\n",
    "y_new += 0.01*np.random.randn(n)\n"
   ]
  },
  {
   "cell_type": "markdown",
   "metadata": {},
   "source": [
    "#### 根据分组求解组LASSO"
   ]
  },
  {
   "cell_type": "code",
   "execution_count": 451,
   "metadata": {},
   "outputs": [],
   "source": [
    "beta0 = np.random.rand(p)\n",
    "mu = 1\n",
    "beta_div,val_div = sub_dec(x_new,y_new,mu,beta0,div_new)"
   ]
  },
  {
   "cell_type": "code",
   "execution_count": 452,
   "metadata": {},
   "outputs": [
    {
     "data": {
      "image/png": "[encoded data removed]",
      "text/plain": [
       "<Figure size 432x288 with 1 Axes>"
      ]
     },
     "metadata": {
      "needs_background": "light"
     },
     "output_type": "display_data"
    },
    {
     "name": "stdout",
     "output_type": "stream",
     "text": [
      "beta         [ 0.          0.         -0.88684267 -0.20741299  0.          0.\n",
      " -0.48101388  0.05068348  0.          0.          0.82610367  2.04852993\n",
      "  0.          0.         -0.60316996  2.32803517  0.          0.\n",
      "  0.49167451  0.77935243]\n",
      "beta_div     [ 1.92257329e-03  1.49940775e-04 -9.07186439e-01 -3.37328932e-02\n",
      " -1.17575534e-03 -2.03286845e-04 -4.67885021e-01 -3.19936421e-02\n",
      " -3.12567411e-03 -2.37147858e-04  1.00473705e+00  1.80727708e-01\n",
      " -6.50417237e-03 -3.96342172e-04 -3.88450607e-01  1.18454715e-01\n",
      "  1.20656836e-03  4.98883202e-05  5.62087828e-01  4.75494810e-02]\n"
     ]
    }
   ],
   "source": [
    "plt.semilogy(val_div[-1000:])\n",
    "plt.show()\n",
    "print('beta        ',beta_new)\n",
    "print('beta_div    ',beta_div)"
   ]
  },
  {
   "cell_type": "code",
   "execution_count": 453,
   "metadata": {},
   "outputs": [
    {
     "name": "stdout",
     "output_type": "stream",
     "text": [
      "3.8957845926099184\n",
      "6.9350734519078685\n"
     ]
    }
   ],
   "source": [
    "print(f(y_new,x_new,beta_div,mu,div_new))\n",
    "print(f(y_new,x_new,beta_new,mu,div_new))"
   ]
  },
  {
   "cell_type": "markdown",
   "metadata": {},
   "source": [
    "#### 使用Elastic Net求解"
   ]
  },
  {
   "cell_type": "code",
   "execution_count": 448,
   "metadata": {},
   "outputs": [],
   "source": [
    "div_e = [[i,i+1] for i in range(p)]\n",
    "beta_ela,val_ela = elastic(x_new,y_new,0.5*mu,0.5*mu,beta0,div_e)"
   ]
  },
  {
   "cell_type": "code",
   "execution_count": 449,
   "metadata": {},
   "outputs": [
    {
     "data": {
      "image/png": "[encoded data removed]",
      "text/plain": [
       "<Figure size 432x288 with 1 Axes>"
      ]
     },
     "metadata": {
      "needs_background": "light"
     },
     "output_type": "display_data"
    },
    {
     "name": "stdout",
     "output_type": "stream",
     "text": [
      "beta         [ 0.          0.         -0.88684267 -0.20741299  0.          0.\n",
      " -0.48101388  0.05068348  0.          0.          0.82610367  2.04852993\n",
      "  0.          0.         -0.60316996  2.32803517  0.          0.\n",
      "  0.49167451  0.77935243]\n",
      "beta_ela     [ 2.01869744e-03  3.37673551e-06 -9.10579894e-01 -9.61033792e-06\n",
      " -1.25487105e-03  4.94330250e-06 -4.70738072e-01 -7.62050263e-06\n",
      " -3.27424874e-03 -1.20999172e-06  1.00279931e+00  1.99460857e-01\n",
      " -6.91736213e-03  2.08158087e-06 -3.76871635e-01  6.85980902e-06\n",
      "  1.28217277e-03  9.09001025e-06  5.66796144e-01 -3.67476654e-06]\n"
     ]
    }
   ],
   "source": [
    "plt.semilogy(val_ela[-100:])\n",
    "plt.show()\n",
    "print('beta        ',beta_new)\n",
    "print('beta_ela    ',beta_ela)"
   ]
  },
  {
   "cell_type": "code",
   "execution_count": 450,
   "metadata": {},
   "outputs": [
    {
     "name": "stdout",
     "output_type": "stream",
     "text": [
      "3.6062565915225284\n",
      "10.644350639227584\n"
     ]
    }
   ],
   "source": [
    "print(e_f(y_new,x_new,beta_ela,0.5*mu,0.5*mu,div_e))\n",
    "print(e_f(y_new,x_new,beta_new,0.5*mu,0.5*mu,div_e))"
   ]
  },
  {
   "cell_type": "code",
   "execution_count": null,
   "metadata": {},
   "outputs": [],
   "source": []
  }
 ],
 "metadata": {
  "kernelspec": {
   "display_name": "Python 3",
   "language": "python",
   "name": "python3"
  },
  "language_info": {
   "codemirror_mode": {
    "name": "ipython",
    "version": 3
   },
   "file_extension": ".py",
   "mimetype": "text/x-python",
   "name": "python",
   "nbconvert_exporter": "python",
   "pygments_lexer": "ipython3",
   "version": "3.8.3"
  }
 },
 "nbformat": 4,
 "nbformat_minor": 4
}
