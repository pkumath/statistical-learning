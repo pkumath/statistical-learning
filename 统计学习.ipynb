{
 "cells": [
  {
   "cell_type": "code",
   "execution_count": 1,
   "metadata": {},
   "outputs": [],
   "source": [
    "import pandas as pd\n",
    "import numpy as np\n",
    "import matplotlib.pyplot as plt\n",
    "%matplotlib inline\n",
    "plt.rc(\"font\", family = \"MicroSoft YaHei\", weight = \"bold\") # 防止中文乱码"
   ]
  },
  {
   "cell_type": "markdown",
   "metadata": {},
   "source": [
    "#### 简单起见只考虑解\n",
    "$$\n",
    "\\frac{1}{2}||y-x\\beta||^2+\\mu||\\beta||_{1,2}\n",
    "$$\n",
    "#### 的问题，其中$\\beta$是一维向量，解法是采用近似点梯度（可能先实现次梯度下降，效率不重要）"
   ]
  },
  {
   "cell_type": "markdown",
   "metadata": {},
   "source": [
    "#### 首先考虑p小于n的情形，方便做聚类"
   ]
  },
  {
   "cell_type": "code",
   "execution_count": 33,
   "metadata": {},
   "outputs": [],
   "source": [
    "import random\n",
    "p = 5 #beta的维度\n",
    "n = 10 #样本个数\n",
    "\n",
    "#初始化真实的beta\n",
    "beta = np.random.randn(p)\n",
    "div = [[0,2],[2,5]] #分组方式\n",
    "\n",
    "beta[div[1][0]:div[1][1]] = 0\n",
    "x = np.zeros([n,p])\n",
    "a = np.random.randn(2,2)\n",
    "x[:,:2] = np.random.multivariate_normal(np.zeros(2),0.1*np.dot(a.T,a),n)\n",
    "x[:,2:5] = 2+2*np.random.randn(n,3)\n",
    "y = np.dot(x,beta)\n",
    "y += 1*np.random.rand(n)\n",
    "mu = 1e-2"
   ]
  },
  {
   "cell_type": "code",
   "execution_count": 34,
   "metadata": {},
   "outputs": [
    {
     "data": {
      "text/plain": [
       "array([[ 0.14772246,  0.11873915,  0.05211766, -0.06760552,  0.09990519,\n",
       "        -0.08419985,  0.18572629,  0.06359298,  0.21540101, -0.05008203],\n",
       "       [ 0.11873915,  0.67863735, -0.20063792,  0.20603949, -0.05183819,\n",
       "         0.07874255,  0.30203451, -0.07857922, -0.00193826, -0.12243769],\n",
       "       [ 0.05211766, -0.20063792,  0.25936164, -0.0660725 ,  0.18516324,\n",
       "        -0.05423652,  0.12646908,  0.29241492, -0.05683665,  0.05289075],\n",
       "       [-0.06760552,  0.20603949, -0.0660725 ,  0.5242454 , -0.2318827 ,\n",
       "         0.02587351, -0.02188078,  0.19859802, -0.04864963,  0.31827355],\n",
       "       [ 0.09990519, -0.05183819,  0.18516324, -0.2318827 ,  0.39473438,\n",
       "         0.29924403,  0.18918108,  0.10075366,  0.03941969, -0.03397367],\n",
       "       [-0.08419985,  0.07874255, -0.05423652,  0.02587351,  0.29924403,\n",
       "         0.80388434, -0.05614207, -0.12086543, -0.05524691,  0.17433781],\n",
       "       [ 0.18572629,  0.30203451,  0.12646908, -0.02188078,  0.18918108,\n",
       "        -0.05614207,  0.39799956,  0.20726699, -0.01196541, -0.12393314],\n",
       "       [ 0.06359298, -0.07857922,  0.29241492,  0.19859802,  0.10075366,\n",
       "        -0.12086543,  0.20726699,  0.49179007, -0.08496494,  0.19956898],\n",
       "       [ 0.21540101, -0.00193826, -0.05683665, -0.04864963,  0.03941969,\n",
       "        -0.05524691, -0.01196541, -0.08496494,  0.89012109,  0.18395283],\n",
       "       [-0.05008203, -0.12243769,  0.05289075,  0.31827355, -0.03397367,\n",
       "         0.17433781, -0.12393314,  0.19956898,  0.18395283,  0.41150372]])"
      ]
     },
     "execution_count": 34,
     "metadata": {},
     "output_type": "execute_result"
    }
   ],
   "source": [
    "np.dot(np.dot(x,np.linalg.inv(np.dot(x.T,x))),x.T)"
   ]
  },
  {
   "cell_type": "code",
   "execution_count": 35,
   "metadata": {},
   "outputs": [
    {
     "data": {
      "text/plain": [
       "array([10.02438314,  7.3459437 ,  5.11447577,  0.84337503,  0.13607739])"
      ]
     },
     "execution_count": 35,
     "metadata": {},
     "output_type": "execute_result"
    }
   ],
   "source": [
    "np.linalg.svd(x)[1]"
   ]
  },
  {
   "cell_type": "code",
   "execution_count": 36,
   "metadata": {},
   "outputs": [
    {
     "data": {
      "text/plain": [
       "array([-0.0554419 ,  1.77558868,  0.        ,  0.        ,  0.        ])"
      ]
     },
     "execution_count": 36,
     "metadata": {},
     "output_type": "execute_result"
    }
   ],
   "source": [
    "beta"
   ]
  },
  {
   "cell_type": "code",
   "execution_count": 37,
   "metadata": {},
   "outputs": [
    {
     "data": {
      "text/plain": [
       "array([ 1.27634847,  1.38050471, -0.06946289,  0.19573674,  0.14355153])"
      ]
     },
     "execution_count": 37,
     "metadata": {},
     "output_type": "execute_result"
    }
   ],
   "source": [
    "np.dot(np.dot(np.linalg.inv(np.dot(x.T,x)),x.T),y)"
   ]
  },
  {
   "cell_type": "code",
   "execution_count": 233,
   "metadata": {
    "scrolled": true
   },
   "outputs": [
    {
     "data": {
      "text/plain": [
       "array([0, 0, 0, 0, 0, 0, 0, 0, 0, 0, 0, 0, 0, 0, 0, 0, 0, 0, 0, 0, 1, 1,\n",
       "       1, 1, 1, 1, 1, 1, 1, 1, 1, 1, 1, 1, 1, 1, 1, 1, 1, 1, 1, 1, 1, 1,\n",
       "       1, 1, 1, 1, 1, 1, 1, 1, 1, 1, 1, 1, 1, 1, 1, 1, 0, 0, 0, 0, 0, 0,\n",
       "       0, 0, 0, 0, 0, 0, 0, 0, 0, 0, 0, 0, 0, 0, 0, 0, 0, 0, 0, 0, 0, 0,\n",
       "       0, 0, 0, 0, 0, 0, 0, 0, 0, 0, 0, 0])"
      ]
     },
     "execution_count": 233,
     "metadata": {},
     "output_type": "execute_result"
    }
   ],
   "source": [
    "from sklearn.cluster import KMeans\n",
    "mean_var = np.zeros([p,2])\n",
    "for i in range(p):\n",
    "    mean_var[i,0] = np.mean(x[:,i])\n",
    "    mean_var[i,1] = np.var(x[:,i])\n",
    "\n",
    "res = KMeans(n_clusters=2,random_state=9).fit_predict(mean_var)\n",
    "res"
   ]
  },
  {
   "cell_type": "code",
   "execution_count": 251,
   "metadata": {},
   "outputs": [
    {
     "data": {
      "text/plain": [
       "array([ 1,  1,  1,  1,  1,  1,  1,  1,  1,  1,  1,  1,  1,  1,  1,  1,  1,\n",
       "        1,  1,  1,  2, 14, 19,  2,  2,  2,  2,  9,  2, 12,  2,  2,  2, 17,\n",
       "        2,  2,  8,  2,  0, 18, 16,  2,  2,  2,  2,  7,  2,  2,  2, 10,  2,\n",
       "        2, 13,  2,  0,  6,  3,  4,  5, 11, 15, 15, 15, 15, 15, 15, 15, 15,\n",
       "       15, 15, 15, 15, 15, 15, 15, 15, 15, 15, 15, 15, 15, 15, 15, 15, 15,\n",
       "       15, 15, 15, 15, 15, 15, 15, 15, 15, 15, 15, 15, 15, 15, 15])"
      ]
     },
     "execution_count": 251,
     "metadata": {},
     "output_type": "execute_result"
    }
   ],
   "source": [
    "res_raw = KMeans(n_clusters=20,random_state=9).fit_predict(x.T)\n",
    "res_raw"
   ]
  },
  {
   "cell_type": "code",
   "execution_count": 202,
   "metadata": {},
   "outputs": [
    {
     "data": {
      "text/plain": [
       "array([1, 1, 1, 1, 1, 1, 1, 1, 1, 1, 1, 1, 1, 1, 1, 1, 1, 1, 1, 1, 0, 0,\n",
       "       0, 0, 0, 0, 0, 0, 0, 0, 0, 0, 0, 0, 0, 0, 0, 0, 0, 0, 0, 0, 0, 0,\n",
       "       0, 0, 0, 0, 0, 0, 0, 0, 0, 0, 0, 0, 0, 0, 0, 0, 0, 0, 0, 0, 0, 0,\n",
       "       0, 0, 0, 0, 0, 0, 0, 0, 0, 0, 0, 0, 0, 0, 0, 0, 0, 0, 0, 0, 0, 0,\n",
       "       0, 0, 0, 0, 0, 0, 0, 0, 0, 0, 0, 0])"
      ]
     },
     "execution_count": 202,
     "metadata": {},
     "output_type": "execute_result"
    }
   ],
   "source": [
    "for i in range(p):\n",
    "    x[:,i] /= np.linalg.norm(x[:,i])\n",
    "res_std = KMeans(n_clusters=2,random_state=9).fit_predict(x.T)\n",
    "res_std"
   ]
  },
  {
   "cell_type": "code",
   "execution_count": 254,
   "metadata": {},
   "outputs": [
    {
     "data": {
      "image/png": "[encoded data removed]",
      "text/plain": [
       "<Figure size 432x288 with 1 Axes>"
      ]
     },
     "metadata": {
      "needs_background": "light"
     },
     "output_type": "display_data"
    }
   ],
   "source": [
    "plt.scatter(x[:50,19],x[:50,20])\n",
    "plt.show()"
   ]
  },
  {
   "cell_type": "code",
   "execution_count": 244,
   "metadata": {},
   "outputs": [
    {
     "data": {
      "text/plain": [
       "array([ True, False,  True,  True,  True,  True, False,  True,  True,\n",
       "       False,  True,  True, False,  True,  True,  True,  True,  True,\n",
       "        True,  True])"
      ]
     },
     "execution_count": 244,
     "metadata": {},
     "output_type": "execute_result"
    }
   ],
   "source": [
    "(abs(np.corrcoef(x.T)[0])>np.sum(abs(np.corrcoef(x.T)[0][1:]))*0.01)[:20]"
   ]
  },
  {
   "cell_type": "code",
   "execution_count": 240,
   "metadata": {},
   "outputs": [
    {
     "data": {
      "text/plain": [
       "array([ True,  True,  True, False,  True,  True,  True,  True,  True,\n",
       "       False,  True,  True, False,  True,  True,  True,  True,  True,\n",
       "        True,  True])"
      ]
     },
     "execution_count": 240,
     "metadata": {},
     "output_type": "execute_result"
    }
   ],
   "source": [
    "(abs(np.corrcoef(x.T)[1])>np.sum(abs(np.corrcoef(x.T)[1][1:]))*0.01)[:20]"
   ]
  },
  {
   "cell_type": "code",
   "execution_count": 249,
   "metadata": {},
   "outputs": [
    {
     "name": "stderr",
     "output_type": "stream",
     "text": [
      "D:\\Anaconda\\lib\\site-packages\\sklearn\\cluster\\_affinity_propagation.py:146: FutureWarning: 'random_state' has been introduced in 0.23. It will be set to None starting from 0.25 which means that results will differ at every function call. Set 'random_state' to None to silence this warning, or to 0 to keep the behavior of versions <0.23.\n",
      "  warnings.warn((\"'random_state' has been introduced in 0.23. \"\n",
      "D:\\Anaconda\\lib\\site-packages\\sklearn\\cluster\\_affinity_propagation.py:146: FutureWarning: 'random_state' has been introduced in 0.23. It will be set to None starting from 0.25 which means that results will differ at every function call. Set 'random_state' to None to silence this warning, or to 0 to keep the behavior of versions <0.23.\n",
      "  warnings.warn((\"'random_state' has been introduced in 0.23. \"\n"
     ]
    },
    {
     "data": {
      "text/plain": [
       "array([0, 0, 0, 0, 0, 0, 0, 0, 0, 0, 0, 0, 0, 0, 0, 0, 0, 0, 0, 0, 1, 1,\n",
       "       1, 1, 1, 1, 1, 1, 1, 1, 1, 1, 1, 1, 1, 1, 1, 1, 1, 1, 1, 1, 1, 1,\n",
       "       1, 1, 1, 1, 1, 1, 1, 1, 1, 1, 1, 1, 1, 1, 1, 1, 1, 1, 1, 1, 1, 1,\n",
       "       1, 1, 1, 1, 1, 1, 1, 1, 1, 1, 1, 1, 1, 1, 1, 1, 1, 1, 1, 1, 1, 1,\n",
       "       1, 1, 1, 1, 1, 1, 1, 1, 1, 1, 1, 1], dtype=int64)"
      ]
     },
     "execution_count": 249,
     "metadata": {},
     "output_type": "execute_result"
    }
   ],
   "source": [
    "from sklearn.cluster import AffinityPropagation\n",
    "af = AffinityPropagation(affinity='euclidean',convergence_iter=10).fit(x.T)\n",
    "label = af.fit_predict(x.T)\n",
    "label"
   ]
  },
  {
   "cell_type": "markdown",
   "metadata": {},
   "source": [
    "#### 根据相关系数聚类"
   ]
  },
  {
   "cell_type": "code",
   "execution_count": 367,
   "metadata": {},
   "outputs": [],
   "source": [
    "def cor_means(k,x):\n",
    "    dic = {}\n",
    "    cls = {}\n",
    "    for i in range(k):\n",
    "        dic[i] = x[:,2*i]\n",
    "        cls[i] = []\n",
    "    it = 0\n",
    "    while it < 10:\n",
    "        for i in range(k):\n",
    "            cls[i] = []\n",
    "        for j in range(x.shape[1]):\n",
    "            corr = [pd.Series(x[:,j]).corr(pd.Series(dic[i])) for i in range(k)]\n",
    "            for s in range(k):\n",
    "                if corr[s] == max(corr):\n",
    "                    cls[s].append(j)\n",
    "        for i in range(k):\n",
    "            new_i = x[:,cls[i][0]]\n",
    "            for j in range(1,len(cls[i])):\n",
    "                new_i += x[:,cls[i][j]]\n",
    "            dic[i] = new_i/np.linalg.norm(new_i,ord=2)\n",
    "        it += 1\n",
    "    corr = [pd.Series(x[:,3]).corr(pd.Series(dic[i])) for i in range(k)]\n",
    "    #print(corr)\n",
    "    return cls"
   ]
  },
  {
   "cell_type": "code",
   "execution_count": 374,
   "metadata": {},
   "outputs": [],
   "source": [
    "p = 20 #beta的维度\n",
    "n = 100 #样本个数\n",
    "\n",
    "#初始化真实的beta\n",
    "beta = np.random.randn(p)\n",
    "div = [[2*i,2*i+2] for i in range(p//2)] #分组方式\n",
    "for i in range(p//2):\n",
    "    if i%2 == 0:\n",
    "        beta[div[i][0]:div[i][1]] = 0\n",
    "x = np.zeros([n,p])\n",
    "for i in range(p//2):\n",
    "    x[:,2*i] = np.random.randn(n).T\n",
    "    x[:,2*i+1] = x[:,2*i]*2+10*np.random.randn(n).T\n",
    "y = np.dot(x,beta)\n",
    "y += 0.01*np.random.randn(n)\n",
    "\n",
    "mu = 1e-2"
   ]
  },
  {
   "cell_type": "code",
   "execution_count": 375,
   "metadata": {},
   "outputs": [
    {
     "data": {
      "text/plain": [
       "{0: [0, 1],\n",
       " 1: [2],\n",
       " 2: [3, 4, 5],\n",
       " 3: [6],\n",
       " 4: [8],\n",
       " 5: [9, 10, 11],\n",
       " 6: [12],\n",
       " 7: [13, 14, 15],\n",
       " 8: [16, 17],\n",
       " 9: [7, 18, 19]}"
      ]
     },
     "execution_count": 375,
     "metadata": {},
     "output_type": "execute_result"
    }
   ],
   "source": [
    "cor_means(10,x)"
   ]
  },
  {
   "cell_type": "code",
   "execution_count": 378,
   "metadata": {},
   "outputs": [
    {
     "data": {
      "text/plain": [
       "array([-0.04779298, -0.04917512, -0.10922596,  1.        ,  0.38982665,\n",
       "        0.98777267, -0.02303855, -0.13670397, -0.00216102,  0.14265774,\n",
       "        0.19408121,  0.12351199, -0.03165765,  0.02639746, -0.05969884,\n",
       "        0.04109867,  0.03359882,  0.03398649, -0.11710198, -0.13058526])"
      ]
     },
     "execution_count": 378,
     "metadata": {},
     "output_type": "execute_result"
    }
   ],
   "source": [
    "np.corrcoef(x.T)[3]"
   ]
  },
  {
   "cell_type": "code",
   "execution_count": 106,
   "metadata": {},
   "outputs": [],
   "source": [
    "#定义求值的函数\n",
    "def f(y,x,beta,mu,div):\n",
    "    return 0.5*np.linalg.norm(y-np.dot(x,beta), ord=2)**2+mu*g(beta,div)\n",
    "\n",
    "def g(beta,div):\n",
    "    s = 0\n",
    "    for dd in div:\n",
    "        s += np.linalg.norm(beta[dd[0]:dd[1]],ord=2)\n",
    "    return s\n",
    "\n",
    "def subgradient(beta,div):\n",
    "    sub = np.zeros(beta.shape)\n",
    "    for dd in div:\n",
    "        if np.linalg.norm(beta[dd[0]:dd[1]])>0:\n",
    "            sub[dd[0]:dd[1]] = beta[dd[0]:dd[1]]/np.linalg.norm(beta[dd[0]:dd[1]])\n",
    "    return sub\n",
    "\n",
    "def sub_dec(x,y,mu,beta0,div):\n",
    "    k = 0\n",
    "    t = 1e-5\n",
    "    beta = beta0.copy()\n",
    "    val = [f(y,x,beta,mu,div)]\n",
    "    bb = [beta]\n",
    "    mu0 = mu*10000\n",
    "    while mu0 > mu:\n",
    "        k = 0\n",
    "        s = 0\n",
    "        while k < 2000:\n",
    "            beta -= t*(np.dot(x.T,np.dot(x,beta)-y)+mu0*subgradient(beta,div))\n",
    "            ff = f(y,x,beta,mu0,div)\n",
    "            if abs(ff-val[-1]) < 0.1**(3+s):\n",
    "                break\n",
    "            val.append(ff)\n",
    "            bb.append(beta)\n",
    "            k += 1\n",
    "        mu0 /= 10\n",
    "        s += 1\n",
    "    k = 0\n",
    "    while k < 10000:\n",
    "        beta -= t*(np.dot(x.T,np.dot(x,beta)-y)+mu*subgradient(beta,div))\n",
    "        ff = f(y,x,beta,mu,div)\n",
    "        if abs(ff-val[-1]) < 1e-10:\n",
    "            break\n",
    "        val.append(ff)\n",
    "        bb.append(beta)\n",
    "        k += 1\n",
    "    return beta,val\n",
    "\n",
    "def sparsity(beta):\n",
    "    return np.sum(abs(beta)>1e-4*np.sum(abs(beta)))/len(beta)"
   ]
  },
  {
   "cell_type": "code",
   "execution_count": 107,
   "metadata": {},
   "outputs": [],
   "source": [
    "import random\n",
    "p = 20 #beta的维度\n",
    "n = 100 #样本个数\n",
    "\n",
    "#初始化真实的beta\n",
    "beta = np.random.randn(p)\n",
    "div = [[0,p//5],[p//5,p]] #分组方式\n",
    "\n",
    "beta[div[1][0]:div[1][1]] = 0\n",
    "x = np.zeros([n,p])\n",
    "a = np.random.randn(p//5,p//5)\n",
    "x[:,:p//5] = np.random.multivariate_normal(np.zeros(p//5),0.1*np.dot(a.T,a),n)\n",
    "x[:,p//5:p] = 2+2*np.random.randn(n,p-p//5)\n",
    "y = np.dot(x,beta)\n",
    "y += 1*np.random.rand(n)\n",
    "mu = 1e-2"
   ]
  },
  {
   "cell_type": "code",
   "execution_count": 108,
   "metadata": {},
   "outputs": [],
   "source": [
    "beta0 = np.random.rand(p)\n",
    "mu = 1e-2\n",
    "beta_r,val = sub_dec(x,y,mu,beta0,div)\n",
    "div_f = [[i,i+1] for i in range(p)]\n",
    "beta_f,val_f = sub_dec(x,y,mu,beta0,div_f)"
   ]
  },
  {
   "cell_type": "code",
   "execution_count": 120,
   "metadata": {},
   "outputs": [],
   "source": [
    "div_f = [[i,i+1] for i in range(p)]\n",
    "beta_f,val_f = sub_dec(x,y,mu,beta0,div_f)"
   ]
  },
  {
   "cell_type": "code",
   "execution_count": 121,
   "metadata": {},
   "outputs": [
    {
     "data": {
      "image/png": "[encoded data removed]",
      "text/plain": [
       "<Figure size 432x288 with 1 Axes>"
      ]
     },
     "metadata": {
      "needs_background": "light"
     },
     "output_type": "display_data"
    },
    {
     "name": "stdout",
     "output_type": "stream",
     "text": [
      "real:0.70 false:0.70\n"
     ]
    }
   ],
   "source": [
    "def sparsity(beta):\n",
    "    return np.sum(abs(beta)>5e-3*np.sum(abs(beta)))/len(beta)\n",
    "plt.semilogy(val)\n",
    "plt.semilogy(val_f)\n",
    "plt.legend(['real','false'])\n",
    "plt.grid(True)\n",
    "plt.show()\n",
    "print('real:%.2f'%sparsity(beta_r),'false:%.2f'%sparsity(beta_f))"
   ]
  },
  {
   "cell_type": "code",
   "execution_count": 119,
   "metadata": {},
   "outputs": [
    {
     "data": {
      "text/plain": [
       "0.55"
      ]
     },
     "execution_count": 119,
     "metadata": {},
     "output_type": "execute_result"
    }
   ],
   "source": [
    "sparsity(np.dot(np.dot(np.linalg.inv(np.dot(x.T,x)+mu*np.eye(p)),x.T),y))"
   ]
  },
  {
   "cell_type": "code",
   "execution_count": 111,
   "metadata": {},
   "outputs": [
    {
     "name": "stdout",
     "output_type": "stream",
     "text": [
      "[ 9.20570115e-01 -5.53421067e-01  1.54193275e+00 -3.33344144e-01\n",
      "  1.54673366e-02  2.81242157e-02  2.59697022e-02  1.24407134e-02\n",
      "  1.96230807e-02  2.48940252e-02 -2.31403026e-02  2.90550961e-02\n",
      "  3.81524538e-03  4.73784055e-02  1.99141843e-02  1.90262980e-02\n",
      "  4.16624117e-03  6.37731699e-04  2.83076147e-02 -1.64425558e-03]\n",
      "[ 9.14497057e-01 -5.52343371e-01  1.54733325e+00 -3.24418213e-01\n",
      "  1.55027514e-02  2.80130651e-02  2.60719486e-02  1.24757609e-02\n",
      "  1.95694138e-02  2.49020709e-02 -2.31999156e-02  2.91356744e-02\n",
      "  3.78918093e-03  4.75316728e-02  1.98392942e-02  1.89891521e-02\n",
      "  4.20517127e-03  6.88661008e-04  2.82443413e-02 -1.67696396e-03]\n",
      "[ 1.30604934e+00 -6.17717809e-01  1.20976064e+00 -8.77142146e-01\n",
      "  1.39303341e-02  3.51287410e-02  1.97045113e-02  1.10903523e-02\n",
      "  2.26156572e-02  2.38702331e-02 -2.02953517e-02  2.47350425e-02\n",
      "  5.05734951e-03  3.85534455e-02  2.44173381e-02  2.14609436e-02\n",
      "  2.01098502e-03 -2.52127329e-03  3.19136095e-02 -5.10149786e-05]\n",
      "[ 1.23835137 -0.56308114  1.27639967 -0.83534932  0.          0.\n",
      "  0.          0.          0.          0.          0.          0.\n",
      "  0.          0.          0.          0.          0.          0.\n",
      "  0.          0.        ]\n"
     ]
    }
   ],
   "source": [
    "print(beta_r)\n",
    "print(beta_f)\n",
    "print(np.dot(np.dot(np.linalg.inv(np.dot(x.T,x)+mu*np.eye(p)),x.T),y))\n",
    "print(beta)"
   ]
  },
  {
   "cell_type": "code",
   "execution_count": 69,
   "metadata": {},
   "outputs": [
    {
     "data": {
      "text/plain": [
       "[<matplotlib.lines.Line2D at 0x2ab727422e0>]"
      ]
     },
     "execution_count": 69,
     "metadata": {},
     "output_type": "execute_result"
    },
    {
     "data": {
      "image/png": "[encoded data removed]",
      "text/plain": [
       "<Figure size 432x288 with 1 Axes>"
      ]
     },
     "metadata": {
      "needs_background": "light"
     },
     "output_type": "display_data"
    }
   ],
   "source": [
    "plt.plot(beta_r)\n",
    "plt.plot(beta_f)\n",
    "plt.plot(np.dot(np.dot(np.linalg.inv(np.dot(x.T,x)+mu*np.eye(5)),x.T),y))"
   ]
  },
  {
   "cell_type": "code",
   "execution_count": 50,
   "metadata": {},
   "outputs": [],
   "source": [
    "div_f = [[i,i+1]for i in range(p)]\n",
    "beta_f,val_f = sub_dec(x,y,mu,beta0,div_f)"
   ]
  },
  {
   "cell_type": "code",
   "execution_count": 51,
   "metadata": {},
   "outputs": [
    {
     "data": {
      "image/png": "[encoded data removed]",
      "text/plain": [
       "<Figure size 432x288 with 1 Axes>"
      ]
     },
     "metadata": {
      "needs_background": "light"
     },
     "output_type": "display_data"
    }
   ],
   "source": [
    "plt.semilogy(val_f)\n",
    "plt.grid(True)\n",
    "plt.show()"
   ]
  },
  {
   "cell_type": "code",
   "execution_count": 35,
   "metadata": {},
   "outputs": [
    {
     "data": {
      "text/plain": [
       "0.6724332510142969"
      ]
     },
     "execution_count": 35,
     "metadata": {},
     "output_type": "execute_result"
    }
   ],
   "source": [
    "np.linalg.norm(beta_f-beta,2)"
   ]
  },
  {
   "cell_type": "code",
   "execution_count": 124,
   "metadata": {},
   "outputs": [
    {
     "data": {
      "text/plain": [
       "-13.85196753623071"
      ]
     },
     "execution_count": 124,
     "metadata": {},
     "output_type": "execute_result"
    }
   ],
   "source": [
    "f(y,x,beta_r,mu,div)-f(y,x,beta,mu,div)"
   ]
  },
  {
   "cell_type": "code",
   "execution_count": 40,
   "metadata": {},
   "outputs": [
    {
     "data": {
      "text/plain": [
       "array([ 0.07534522, -0.2732999 , -0.53766923,  0.66474365, -0.64161269,\n",
       "       -0.35775392,  0.73140875,  0.24510669,  1.01174237, -0.21599963])"
      ]
     },
     "execution_count": 40,
     "metadata": {},
     "output_type": "execute_result"
    }
   ],
   "source": [
    "beta_r[:10]"
   ]
  },
  {
   "cell_type": "code",
   "execution_count": 63,
   "metadata": {},
   "outputs": [
    {
     "data": {
      "text/plain": [
       "0.08294179421626541"
      ]
     },
     "execution_count": 63,
     "metadata": {},
     "output_type": "execute_result"
    }
   ],
   "source": [
    "np.linalg.norm(beta_r-beta)-np.linalg.norm(beta_f-beta)"
   ]
  },
  {
   "cell_type": "code",
   "execution_count": 221,
   "metadata": {},
   "outputs": [
    {
     "data": {
      "text/plain": [
       "-0.0012499999999999734"
      ]
     },
     "execution_count": 221,
     "metadata": {},
     "output_type": "execute_result"
    }
   ],
   "source": [
    "f(y,x,np.array([1,0,0]),mu,div)-f(y,x,np.array([0.5,0.5,0]),mu,div)"
   ]
  },
  {
   "cell_type": "code",
   "execution_count": 125,
   "metadata": {},
   "outputs": [
    {
     "data": {
      "text/plain": [
       "0.001119781342112775"
      ]
     },
     "execution_count": 125,
     "metadata": {},
     "output_type": "execute_result"
    }
   ],
   "source": [
    "np.linalg.norm(y-np.dot(x,beta_f))"
   ]
  },
  {
   "cell_type": "code",
   "execution_count": 127,
   "metadata": {},
   "outputs": [
    {
     "data": {
      "text/plain": [
       "array([-14.87524265,   6.49451218,  -7.05489744, -17.25115369,\n",
       "        -4.74789556,  -0.80808277, -10.07662031,   0.95622001,\n",
       "        -2.60902611,  -4.34608205])"
      ]
     },
     "execution_count": 127,
     "metadata": {},
     "output_type": "execute_result"
    }
   ],
   "source": [
    "np.dot(x,beta_f)[:10]"
   ]
  },
  {
   "cell_type": "code",
   "execution_count": 128,
   "metadata": {},
   "outputs": [
    {
     "data": {
      "text/plain": [
       "10.90157451484927"
      ]
     },
     "execution_count": 128,
     "metadata": {},
     "output_type": "execute_result"
    }
   ],
   "source": [
    "np.linalg.norm(beta)"
   ]
  },
  {
   "cell_type": "code",
   "execution_count": 141,
   "metadata": {},
   "outputs": [
    {
     "data": {
      "text/plain": [
       "0.016979313783943458"
      ]
     },
     "execution_count": 141,
     "metadata": {},
     "output_type": "execute_result"
    }
   ],
   "source": [
    "np.sum(abs(beta_r))*1e-4"
   ]
  },
  {
   "cell_type": "code",
   "execution_count": 106,
   "metadata": {},
   "outputs": [
    {
     "data": {
      "image/png": "[encoded data removed]",
      "text/plain": [
       "<Figure size 432x288 with 1 Axes>"
      ]
     },
     "metadata": {
      "needs_background": "light"
     },
     "output_type": "display_data"
    }
   ],
   "source": [
    "a = x[:,1]/np.linalg.norm(x[:,1])\n",
    "b = x[:,0]/np.linalg.norm(x[:,0])\n",
    "plt.scatter(a,b)\n",
    "plt.show()"
   ]
  },
  {
   "cell_type": "code",
   "execution_count": 155,
   "metadata": {},
   "outputs": [],
   "source": [
    "def find_div(k,x,beta):\n",
    "    res_raw = KMeans(n_clusters=k,random_state=9).fit_predict(x.T)\n",
    "    dic = {}\n",
    "    for i in range(k):\n",
    "        dic[i] = []\n",
    "    for i in range(x.shape[1]):\n",
    "        dic[res_raw[i]].append(i)\n",
    "    beta_new = np.zeros(beta.shape)\n",
    "    x_new = np.zeros(x.shape)\n",
    "    j = 0\n",
    "    kk = 0\n",
    "    div = []\n",
    "    while j < x.shape[1]:\n",
    "        s = len(dic[kk])\n",
    "        beta_new[j:j+s] = beta[dic[kk]].copy()\n",
    "        x_new[j:j+s,:] = x[dic[kk],:].copy()\n",
    "        div.append([j,j+s])\n",
    "        j += s\n",
    "        kk += 1\n",
    "    return x_new,beta_new,div"
   ]
  },
  {
   "cell_type": "markdown",
   "metadata": {},
   "source": [
    "#### 组内相关"
   ]
  },
  {
   "cell_type": "code",
   "execution_count": 345,
   "metadata": {},
   "outputs": [],
   "source": [
    "p = 20 #beta的维度\n",
    "n = 100 #样本个数\n",
    "\n",
    "#初始化真实的beta\n",
    "beta = np.random.randn(p)\n",
    "div = [[2*i,2*i+2] for i in range(p//2)] #分组方式\n",
    "for i in range(p//2):\n",
    "    if i%2 == 0:\n",
    "        beta[div[i][0]:div[i][1]] = 0\n",
    "x = np.zeros([n,p])\n",
    "for i in range(p//2):\n",
    "    x[:,2*i] = np.random.randn(n).T\n",
    "    x[:,2*i+1] = x[:,2*i]*2+0.01*np.random.randn(n).T\n",
    "y = np.dot(x,beta)\n",
    "y += 0.01*np.random.randn(n)\n",
    "\n",
    "mu = 1e-2"
   ]
  },
  {
   "cell_type": "code",
   "execution_count": 177,
   "metadata": {},
   "outputs": [],
   "source": [
    "beta0 = np.random.rand(p)\n",
    "mu = 1e-2\n",
    "div = [[i,i+1] for i in range(p)]\n",
    "beta_r,val = sub_dec(x,y,mu,beta0,div)\n",
    "beta_f,val_f = sub_dec(x_new,y_new,mu,beta0,div_new)"
   ]
  },
  {
   "cell_type": "code",
   "execution_count": 178,
   "metadata": {},
   "outputs": [
    {
     "data": {
      "image/png": "[encoded data removed]",
      "text/plain": [
       "<Figure size 432x288 with 1 Axes>"
      ]
     },
     "metadata": {
      "needs_background": "light"
     },
     "output_type": "display_data"
    },
    {
     "name": "stdout",
     "output_type": "stream",
     "text": [
      "real:0.65 false:0.80\n"
     ]
    }
   ],
   "source": [
    "def sparsity(beta):\n",
    "    return np.sum(abs(beta)>5e-3*np.sum(abs(beta)))/len(beta)\n",
    "plt.semilogy(val)\n",
    "plt.semilogy(val_f)\n",
    "plt.legend(['real','false'])\n",
    "plt.grid(True)\n",
    "plt.show()\n",
    "print('real:%.2f'%sparsity(beta_r),'false:%.2f'%sparsity(beta_f))"
   ]
  },
  {
   "cell_type": "code",
   "execution_count": 170,
   "metadata": {},
   "outputs": [
    {
     "name": "stdout",
     "output_type": "stream",
     "text": [
      "[ 0.05544992 -0.06822707  0.05332678 -0.00498716 -1.69754288  1.24274121\n",
      "  0.10569761  1.3243058  -0.11010013  0.20401455  0.07311664 -0.08161433\n",
      "  0.23771058  0.47071708  0.03940393 -0.24284173 -0.12473429  0.02379029\n",
      " -0.00896666 -0.10842012]\n",
      "[ 0.          0.          0.          0.         -2.04527021  1.19683516\n",
      "  0.31435989  1.44473867  0.          0.          0.          0.\n",
      "  0.          0.          0.          0.          0.          0.\n",
      "  0.          0.        ]\n"
     ]
    }
   ],
   "source": [
    "print(beta_f)\n",
    "print(beta_new)"
   ]
  },
  {
   "cell_type": "code",
   "execution_count": 171,
   "metadata": {},
   "outputs": [
    {
     "name": "stdout",
     "output_type": "stream",
     "text": [
      "[-1.65488422e+00  1.31505473e+00  8.59811578e-01  7.12471689e-01\n",
      "  3.50090048e-03 -1.76465880e-03  1.12473049e-02 -9.49280618e-05\n",
      "  2.72901585e-03  2.46856950e-03 -1.12375509e-02  7.22619918e-04\n",
      " -9.64068629e-03  1.55727921e-02 -4.42337679e-03 -8.80222279e-03\n",
      " -1.18558678e-03 -1.00409211e-02  1.57039546e-02 -2.22824985e-03]\n",
      "[-2.04527021  1.19683516  0.31435989  1.44473867  0.          0.\n",
      "  0.          0.          0.          0.          0.          0.\n",
      "  0.          0.          0.          0.          0.          0.\n",
      "  0.          0.        ]\n"
     ]
    }
   ],
   "source": [
    "print(beta_r)\n",
    "print(beta)"
   ]
  },
  {
   "cell_type": "code",
   "execution_count": 242,
   "metadata": {},
   "outputs": [],
   "source": [
    "p = 3 #beta的维度\n",
    "n = 4 #样本个数\n",
    "\n",
    "#初始化真实的beta\n",
    "beta = np.array([1,0,0])\n",
    "div = [[0,2],[2,3]] #分组方式\n",
    "\n",
    "x = np.array([[1,1.1,0],[2,2.2,0],[3,3.3,0],[4,4.4,0]])\n",
    "y = np.dot(x,beta)\n",
    "mu = 1e-2"
   ]
  },
  {
   "cell_type": "code",
   "execution_count": 313,
   "metadata": {},
   "outputs": [],
   "source": [
    "beta0 = np.random.rand(p)\n",
    "mu = 1\n",
    "#div = [[i,i+1] for i in range(p)]\n",
    "beta_r,val = sub_dec(x,y,mu,beta0,div)\n",
    "div1 = [[i,i+1] for i in range(p)]\n",
    "beta_e,e_val = elastic(x,y,0.5*mu,0.5*mu,beta0,div1)"
   ]
  },
  {
   "cell_type": "code",
   "execution_count": 314,
   "metadata": {},
   "outputs": [
    {
     "name": "stdout",
     "output_type": "stream",
     "text": [
      "[ 4.89460444e-06  3.31889512e-05 -3.85294651e-02 -7.70584068e-02\n",
      " -3.57703602e-05 -7.15402909e-05 -7.70510136e-01 -1.55232299e+00\n",
      " -3.72049473e-06 -7.44095096e-06 -2.81618139e-01 -5.63710103e-01\n",
      "  3.37916461e-05  6.80169019e-05 -1.05590954e-01 -2.11176069e-01\n",
      "  2.29221604e-05  4.58433571e-05 -5.94356891e-01 -1.17346131e+00]\n",
      "[ 0.          0.          0.0562448  -0.1264971   0.          0.\n",
      "  0.57321114 -2.22640844  0.          0.          1.16673953 -1.28934257\n",
      "  0.          0.          0.3592018  -0.44664565  0.          0.\n",
      " -0.31919212 -1.31393834]\n",
      "[-8.16895837e-05 -9.73321128e-05  3.70452630e-05 -9.60369372e-02\n",
      " -1.03381874e-04  2.91074412e-05 -2.38832780e-05 -1.93724126e+00\n",
      " -3.18485219e-06 -9.13120630e-05 -6.16094632e-05 -7.04311488e-01\n",
      " -5.03813219e-05  8.37274286e-05 -8.51643167e-05 -2.63659279e-01\n",
      "  7.42147589e-05 -7.56194972e-05 -5.88570755e-05 -1.47026403e+00]\n"
     ]
    }
   ],
   "source": [
    "print(beta_r)\n",
    "print(beta)\n",
    "print(beta_e)"
   ]
  },
  {
   "cell_type": "code",
   "execution_count": 266,
   "metadata": {},
   "outputs": [
    {
     "data": {
      "text/plain": [
       "[<matplotlib.lines.Line2D at 0x2ab7a53ce50>]"
      ]
     },
     "execution_count": 266,
     "metadata": {},
     "output_type": "execute_result"
    },
    {
     "data": {
      "image/png": "[encoded data removed]",
      "text/plain": [
       "<Figure size 432x288 with 1 Axes>"
      ]
     },
     "metadata": {
      "needs_background": "light"
     },
     "output_type": "display_data"
    }
   ],
   "source": [
    "plt.semilogy(val[-100:])"
   ]
  },
  {
   "cell_type": "code",
   "execution_count": 237,
   "metadata": {},
   "outputs": [],
   "source": [
    "#定义求值的函数\n",
    "def f(y,x,beta,mu,div):\n",
    "    return 0.5*np.linalg.norm(y-np.dot(x,beta), ord=2)**2+mu*g(beta,div)\n",
    "\n",
    "def g(beta,div):\n",
    "    s = 0\n",
    "    for dd in div:\n",
    "        s += np.linalg.norm(beta[dd[0]:dd[1]],ord=2)\n",
    "    return s\n",
    "\n",
    "def subgradient(beta,div):\n",
    "    sub = np.zeros(beta.shape)\n",
    "    for dd in div:\n",
    "        if np.linalg.norm(beta[dd[0]:dd[1]])>0:\n",
    "            sub[dd[0]:dd[1]] = beta[dd[0]:dd[1]]/np.linalg.norm(beta[dd[0]:dd[1]])\n",
    "    return sub\n",
    "\n",
    "def sub_dec(x,y,mu,beta0,div):\n",
    "    k = 0\n",
    "    t = 1e-4\n",
    "    beta = beta0.copy()\n",
    "    val = [f(y,x,beta,mu,div)]\n",
    "    bb = [beta]\n",
    "\n",
    "    while k < 50000:\n",
    "        beta -= t*(np.dot(x.T,np.dot(x,beta)-y)+mu*subgradient(beta,div))\n",
    "        ff = f(y,x,beta,mu,div)\n",
    "        if abs(ff-val[-1]) < 1e-10:\n",
    "            break\n",
    "        val.append(ff)\n",
    "        bb.append(beta)\n",
    "        k += 1\n",
    "        #t /= (k+1)/k\n",
    "    return beta,val\n",
    "\n",
    "def sparsity(beta):\n",
    "    return np.sum(abs(beta)>1e-4*np.sum(abs(beta)))/len(beta)"
   ]
  },
  {
   "cell_type": "code",
   "execution_count": 312,
   "metadata": {},
   "outputs": [],
   "source": [
    "#定义求值的函数\n",
    "def e_f(y,x,beta,mu1,mu2,div):\n",
    "    return 0.5*np.linalg.norm(y-np.dot(x,beta), ord=2)**2+e_g(beta,mu1,mu2,div)\n",
    "\n",
    "def e_g(beta,mu1,mu2,div):\n",
    "    s = 0\n",
    "    for dd in div:\n",
    "        s += mu1*np.linalg.norm(beta[dd[0]:dd[1]],ord=2)**2+mu2*np.linalg.norm(beta[dd[0]:dd[1]],ord=1)\n",
    "    return s\n",
    "\n",
    "def e_subgradient(beta,mu1,mu2,div):\n",
    "    sub = np.zeros(beta.shape)\n",
    "    for dd in div:\n",
    "        if np.linalg.norm(beta[dd[0]:dd[1]])>0:\n",
    "            sub[dd[0]:dd[1]] = mu1*beta[dd[0]:dd[1]]/np.linalg.norm(beta[dd[0]:dd[1]])\n",
    "            for i in range(dd[0],dd[1]):\n",
    "                if sub[i] > 0:\n",
    "                    sub[i] += mu2\n",
    "                else:\n",
    "                    sub[i] -= mu2\n",
    "    return sub\n",
    "\n",
    "def elastic(x,y,mu1,mu2,beta0,div):\n",
    "    k = 0\n",
    "    t = 1e-4\n",
    "    beta = beta0.copy()\n",
    "    val = [e_f(y,x,beta,mu1,mu2,div)]\n",
    "    bb = [beta]\n",
    "\n",
    "    while k < 50000:\n",
    "        beta -= t*(np.dot(x.T,np.dot(x,beta)-y)+e_subgradient(beta,mu1,mu2,div))\n",
    "        ff = e_f(y,x,beta,mu1,mu2,div)\n",
    "        if abs(ff-val[-1]) < 1e-10:\n",
    "            break\n",
    "        val.append(ff)\n",
    "        bb.append(beta)\n",
    "        k += 1\n",
    "        #t /= (k+1)/k\n",
    "    return beta,val\n",
    "\n",
    "def sparsity(beta):\n",
    "    return np.sum(abs(beta)>1e-4*np.sum(abs(beta)))/len(beta)"
   ]
  },
  {
   "cell_type": "code",
   "execution_count": 275,
   "metadata": {},
   "outputs": [
    {
     "name": "stdout",
     "output_type": "stream",
     "text": [
      "[-0.          0.         -0.55678211 -0.53456385 -0.          0.\n",
      " -0.         -0.01046117 -0.          0.02656236  0.00841342 -0.01344567\n",
      " -0.          0.         -0.0069989   0.         -0.         -0.\n",
      " -0.         -0.        ]\n"
     ]
    }
   ],
   "source": [
    "from sklearn import linear_model\n",
    "lasso_model = linear_model.Lasso(alpha=0.1)\n",
    "lasso_model.fit(x, y)\n",
    "print(lasso_model.coef_)"
   ]
  },
  {
   "cell_type": "code",
   "execution_count": 269,
   "metadata": {},
   "outputs": [
    {
     "data": {
      "text/plain": [
       "array([ 0.12735122, -0.42990848, -2.19433266, -1.19026633,  0.        ,\n",
       "        0.        ,  0.        ,  0.        ,  0.        ,  0.        ,\n",
       "        0.        ,  0.        ,  0.        ,  0.        ,  0.        ,\n",
       "        0.        ,  0.        ,  0.        ,  0.        ,  0.        ])"
      ]
     },
     "execution_count": 269,
     "metadata": {},
     "output_type": "execute_result"
    }
   ],
   "source": [
    "beta"
   ]
  },
  {
   "cell_type": "code",
   "execution_count": 270,
   "metadata": {},
   "outputs": [
    {
     "name": "stdout",
     "output_type": "stream",
     "text": [
      "[-0.          0.         -0.64625094 -0.57547422 -0.          0.\n",
      " -0.         -0.01500159 -0.          0.029021    0.0121991  -0.01528269\n",
      " -0.          0.         -0.00949375  0.         -0.         -0.\n",
      " -0.         -0.        ]\n"
     ]
    }
   ],
   "source": [
    "from sklearn import linear_model\n",
    "lasso_model = linear_model.ElasticNet(alpha=0.1,l1_ratio=0.8)\n",
    "lasso_model.fit(x, y)\n",
    "print(lasso_model.coef_)"
   ]
  },
  {
   "cell_type": "code",
   "execution_count": 276,
   "metadata": {},
   "outputs": [
    {
     "data": {
      "text/plain": [
       "6.0"
      ]
     },
     "execution_count": 276,
     "metadata": {},
     "output_type": "execute_result"
    }
   ],
   "source": [
    "+np.linalg.norm(np.array([1,2,3]),ord=1)"
   ]
  },
  {
   "cell_type": "code",
   "execution_count": null,
   "metadata": {},
   "outputs": [],
   "source": []
  }
 ],
 "metadata": {
  "kernelspec": {
   "display_name": "Python 3",
   "language": "python",
   "name": "python3"
  },
  "language_info": {
   "codemirror_mode": {
    "name": "ipython",
    "version": 3
   },
   "file_extension": ".py",
   "mimetype": "text/x-python",
   "name": "python",
   "nbconvert_exporter": "python",
   "pygments_lexer": "ipython3",
   "version": "3.8.3"
  }
 },
 "nbformat": 4,
 "nbformat_minor": 4
}
