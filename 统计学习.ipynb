{
 "cells": [
  {
   "cell_type": "code",
   "execution_count": 1,
   "metadata": {},
   "outputs": [],
   "source": [
    "import pandas as pd\n",
    "import numpy as np\n",
    "import matplotlib.pyplot as plt\n",
    "%matplotlib inline\n",
    "plt.rc(\"font\", family = \"MicroSoft YaHei\", weight = \"bold\") # 防止中文乱码"
   ]
  },
  {
   "cell_type": "markdown",
   "metadata": {},
   "source": [
    "#### 简单起见只考虑解\n",
    "$$\n",
    "\\frac{1}{2}||y-x\\beta||^2+\\mu||\\beta||_{1,2}\n",
    "$$\n",
    "#### 的问题，其中$\\beta$是一维向量，解法是采用近似点梯度（可能先实现次梯度下降，效率不重要）"
   ]
  },
  {
   "cell_type": "markdown",
   "metadata": {},
   "source": [
    "#### 首先考虑p小于n的情形，方便做聚类"
   ]
  },
  {
   "cell_type": "code",
   "execution_count": 195,
   "metadata": {},
   "outputs": [],
   "source": [
    "import random\n",
    "p = 100 #beta的维度\n",
    "n = 1000000 #样本个数\n",
    "\n",
    "#初始化真实的beta\n",
    "beta = np.random.randn(p)\n",
    "div = [[0,20],[20,100]] #分组方式\n",
    "\n",
    "beta[div[1][0]:div[1][1]] = 0\n",
    "x = np.zeros([n,p])\n",
    "a = np.random.randn(20,20)\n",
    "x[:,:20] = np.random.multivariate_normal(np.zeros(20),np.dot(a.T,a),n)\n",
    "x[:,20:60] = 2+2*np.random.randn(n,40)\n",
    "x[:,60:100] = 3+np.random.randn(n,40)\n",
    "y = np.dot(x,beta)\n",
    "mu = 1e-2\n"
   ]
  },
  {
   "cell_type": "code",
   "execution_count": 183,
   "metadata": {
    "scrolled": true
   },
   "outputs": [
    {
     "data": {
      "text/plain": [
       "array([1, 1, 1, 0, 1, 1, 1, 1, 1, 0, 1, 1, 1, 1, 1, 1, 1, 1, 1, 1, 0, 0,\n",
       "       0, 0, 0, 0, 0, 0, 0, 0, 0, 0, 0, 0, 0, 0, 0, 0, 0, 0, 0, 0, 0, 0,\n",
       "       0, 0, 0, 0, 0, 0, 0, 0, 0, 0, 0, 0, 0, 0, 0, 0, 0, 0, 0, 0, 0, 0,\n",
       "       0, 0, 0, 0, 0, 0, 0, 0, 0, 0, 0, 0, 0, 0, 0, 0, 0, 0, 0, 0, 0, 0,\n",
       "       0, 0, 0, 0, 0, 0, 0, 0, 0, 0, 0, 0])"
      ]
     },
     "execution_count": 183,
     "metadata": {},
     "output_type": "execute_result"
    }
   ],
   "source": [
    "from sklearn.cluster import KMeans\n",
    "mean_var = np.zeros([p,2])\n",
    "for i in range(p):\n",
    "    mean_var[i,0] = np.mean(x[:,i])\n",
    "    mean_var[i,1] = np.var(x[:,i])\n",
    "\n",
    "res = KMeans(n_clusters=2,random_state=9).fit_predict(mean_var)\n",
    "res"
   ]
  },
  {
   "cell_type": "code",
   "execution_count": 172,
   "metadata": {},
   "outputs": [
    {
     "data": {
      "text/plain": [
       "array([1, 1, 1, 1, 1, 1, 1, 1, 1, 1, 1, 1, 1, 1, 1, 1, 1, 1, 1, 1, 0, 0,\n",
       "       0, 0, 0, 0, 0, 0, 0, 0, 0, 0, 0, 0, 0, 0, 0, 0, 0, 0, 0, 0, 0, 0,\n",
       "       0, 0, 0, 0, 0, 0, 0, 0, 0, 0, 0, 0, 0, 0, 0, 0, 0, 0, 0, 0, 0, 0,\n",
       "       0, 0, 0, 0, 0, 0, 0, 0, 0, 0, 0, 0, 0, 0, 0, 0, 0, 0, 0, 0, 0, 0,\n",
       "       0, 0, 0, 0, 0, 0, 0, 0, 0, 0, 0, 0])"
      ]
     },
     "execution_count": 172,
     "metadata": {},
     "output_type": "execute_result"
    }
   ],
   "source": [
    "res_raw = KMeans(n_clusters=2,random_state=9).fit_predict(x.T)\n",
    "res_raw"
   ]
  },
  {
   "cell_type": "code",
   "execution_count": 196,
   "metadata": {},
   "outputs": [
    {
     "data": {
      "text/plain": [
       "array([1, 1, 1, 1, 1, 1, 1, 1, 1, 1, 1, 1, 1, 1, 1, 1, 1, 1, 1, 1, 0, 0,\n",
       "       0, 0, 0, 0, 0, 0, 0, 0, 0, 0, 0, 0, 0, 0, 0, 0, 0, 0, 0, 0, 0, 0,\n",
       "       0, 0, 0, 0, 0, 0, 0, 0, 0, 0, 0, 0, 0, 0, 0, 0, 0, 0, 0, 0, 0, 0,\n",
       "       0, 0, 0, 0, 0, 0, 0, 0, 0, 0, 0, 0, 0, 0, 0, 0, 0, 0, 0, 0, 0, 0,\n",
       "       0, 0, 0, 0, 0, 0, 0, 0, 0, 0, 0, 0])"
      ]
     },
     "execution_count": 196,
     "metadata": {},
     "output_type": "execute_result"
    }
   ],
   "source": [
    "for i in range(p):\n",
    "    x[:,i] /= np.linalg.norm(x[:,i])\n",
    "res_std = KMeans(n_clusters=2,random_state=9).fit_predict(x.T)\n",
    "res_std"
   ]
  },
  {
   "cell_type": "code",
   "execution_count": 159,
   "metadata": {},
   "outputs": [
    {
     "data": {
      "image/png": "[encoded data removed]",
      "text/plain": [
       "<Figure size 432x288 with 1 Axes>"
      ]
     },
     "metadata": {
      "needs_background": "light"
     },
     "output_type": "display_data"
    }
   ],
   "source": [
    "plt.scatter(mean_var[:,0],mean_var[:,1])\n",
    "plt.show()"
   ]
  },
  {
   "cell_type": "code",
   "execution_count": 197,
   "metadata": {},
   "outputs": [
    {
     "data": {
      "text/plain": [
       "array([ True,  True,  True,  True,  True,  True,  True, False,  True,\n",
       "        True,  True,  True,  True,  True,  True,  True,  True, False,\n",
       "        True,  True, False, False, False, False, False, False, False,\n",
       "       False, False, False, False, False, False, False, False, False,\n",
       "       False, False, False, False, False, False, False, False, False,\n",
       "       False, False, False, False, False, False, False, False, False,\n",
       "       False, False, False, False, False, False, False, False, False,\n",
       "       False, False, False, False, False, False, False, False, False,\n",
       "       False, False, False, False, False, False, False, False, False,\n",
       "       False, False, False, False, False, False, False, False, False,\n",
       "       False, False, False, False, False, False, False, False, False,\n",
       "       False])"
      ]
     },
     "execution_count": 197,
     "metadata": {},
     "output_type": "execute_result"
    }
   ],
   "source": [
    "abs(np.corrcoef(x.T)[0])>np.sum(abs(np.corrcoef(x.T)[0][1:]))*0.01"
   ]
  },
  {
   "cell_type": "code",
   "execution_count": 198,
   "metadata": {},
   "outputs": [
    {
     "data": {
      "text/plain": [
       "array([ 1.00000000e+00,  3.34669618e-01,  1.25978879e-01,  6.16792504e-02,\n",
       "        1.51540049e-01, -4.50183479e-01, -5.17982457e-01,  1.81916178e-02,\n",
       "        2.59004194e-01,  7.77485326e-02,  1.17016856e-01,  2.78947968e-01,\n",
       "       -3.85515726e-01, -1.82383848e-01,  1.58193215e-01,  1.54243052e-01,\n",
       "        1.49115718e-01, -7.30702406e-03, -4.90456963e-02,  1.94810830e-01,\n",
       "        3.98069862e-04,  1.16186262e-04,  9.87903808e-04,  3.20174099e-04,\n",
       "       -3.91135719e-04,  7.22802143e-04, -1.26839517e-04,  1.30974006e-03,\n",
       "       -9.93671105e-04,  1.32076585e-03, -2.18587562e-04,  1.69524021e-03,\n",
       "        6.52376556e-04,  6.07352725e-04,  1.00598915e-03, -5.41540317e-04,\n",
       "        6.12796888e-04, -1.48123681e-03,  1.43102316e-03,  6.24269361e-04,\n",
       "        6.74706830e-04,  6.73378316e-04, -7.68010330e-04,  2.04493756e-03,\n",
       "       -2.11255149e-04,  5.99990250e-04, -1.92523403e-03,  6.90838958e-04,\n",
       "       -1.29516918e-03,  4.32857729e-04, -1.30222473e-03,  2.30889521e-04,\n",
       "        3.54917462e-04,  1.33408634e-03, -1.04063525e-03, -9.95270700e-04,\n",
       "        8.73936312e-04, -1.36564355e-03,  2.81901896e-03,  3.63330998e-04,\n",
       "        6.64402814e-04,  1.24313909e-03, -5.43576337e-04,  1.04062283e-03,\n",
       "       -3.42928480e-04, -2.83519475e-03, -1.25277160e-03, -4.80583144e-04,\n",
       "        1.53820278e-04, -1.22681403e-03, -9.36154873e-04,  7.67391651e-05,\n",
       "        1.24483367e-03, -2.43987971e-03,  1.04434718e-04,  1.92159152e-04,\n",
       "       -1.49693098e-04,  2.91299711e-04,  1.66742965e-03, -1.36539305e-03,\n",
       "       -1.00449902e-03, -6.74226425e-04,  6.64923432e-04, -2.74434692e-04,\n",
       "       -1.47251832e-04,  4.58118076e-04, -1.41027697e-03, -1.35199543e-03,\n",
       "        4.48864349e-04, -1.36862719e-03, -1.98466430e-05, -2.35057813e-04,\n",
       "       -1.61695733e-03, -2.68619754e-04, -1.66032019e-05,  3.77141299e-04,\n",
       "        4.29075232e-04,  2.99469993e-04, -1.12757623e-03,  1.46796888e-04])"
      ]
     },
     "execution_count": 198,
     "metadata": {},
     "output_type": "execute_result"
    }
   ],
   "source": [
    "np.corrcoef(x.T)[0]"
   ]
  },
  {
   "cell_type": "code",
   "execution_count": null,
   "metadata": {},
   "outputs": [],
   "source": [
    "def find_div(array): #传入聚类之后的array\n",
    "    "
   ]
  },
  {
   "cell_type": "code",
   "execution_count": 163,
   "metadata": {},
   "outputs": [],
   "source": [
    "#定义求值的函数\n",
    "def f(y,x,beta,mu,div):\n",
    "    return 0.5*np.linalg.norm(y-np.dot(x,beta), ord=2)**2+mu*g(beta,div)\n",
    "\n",
    "def g(beta,div):\n",
    "    s = 0\n",
    "    for dd in div:\n",
    "        s += np.linalg.norm(beta[dd[0]:dd[1]],ord=2)\n",
    "    return s\n",
    "\n",
    "def subgradient(beta,div):\n",
    "    sub = np.zeros(beta.shape)\n",
    "    for dd in div:\n",
    "        if np.linalg.norm(beta[dd[0]:dd[1]])>0:\n",
    "            sub[dd[0]:dd[1]] = beta[dd[0]:dd[1]]/np.linalg.norm(beta[dd[0]:dd[1]])\n",
    "    return sub\n",
    "\n",
    "def sub_dec(x,y,mu,beta0,div):\n",
    "    k = 0\n",
    "    t = 1e-3\n",
    "    beta = beta0.copy()\n",
    "    val = [f(y,x,beta,mu,div)]\n",
    "    bb = [beta]\n",
    "    mu0 = mu*10000\n",
    "    while mu0 > mu:\n",
    "        k = 0\n",
    "        s = 0\n",
    "        while k < 500:\n",
    "            beta -= t*(np.dot(x.T,np.dot(x,beta)-y)+mu0*subgradient(beta,div))\n",
    "            ff = f(y,x,beta,mu0,div)\n",
    "            if abs(ff-val[-1]) < 0.1**(3+s):\n",
    "                break\n",
    "            val.append(ff)\n",
    "            bb.append(beta)\n",
    "            k += 1\n",
    "        mu0 /= 10\n",
    "        s += 1\n",
    "    k = 0\n",
    "    while k < 500:\n",
    "        beta -= t*(np.dot(x.T,np.dot(x,beta)-y)+mu*subgradient(beta,div))\n",
    "        ff = f(y,x,beta,mu,div)\n",
    "        if abs(ff-val[-1]) < 1e-8:\n",
    "            break\n",
    "        val.append(ff)\n",
    "        bb.append(beta)\n",
    "        k += 1\n",
    "    return beta,val\n",
    "\n",
    "\n",
    "def sparsity(beta):\n",
    "    return np.sum(beta>1e-6*np.sum(abs(beta)))/len(beta)"
   ]
  },
  {
   "cell_type": "code",
   "execution_count": 164,
   "metadata": {},
   "outputs": [],
   "source": [
    "beta0 = np.random.rand(p)\n",
    "mu = 1e-2\n",
    "beta_r,val = sub_dec(x,y,mu,beta0,div)\n",
    "div_f = [[5*i,5*i+5] for i in range(200)]\n",
    "beta_f,val_f = sub_dec(x,y,mu,beta0,div_f)"
   ]
  },
  {
   "cell_type": "code",
   "execution_count": 165,
   "metadata": {},
   "outputs": [
    {
     "data": {
      "image/png": "[encoded data removed]",
      "text/plain": [
       "<Figure size 432x288 with 1 Axes>"
      ]
     },
     "metadata": {
      "needs_background": "light"
     },
     "output_type": "display_data"
    },
    {
     "name": "stdout",
     "output_type": "stream",
     "text": [
      "real:0.43 false:0.36\n"
     ]
    }
   ],
   "source": [
    "plt.semilogy(val)\n",
    "plt.semilogy(val_f)\n",
    "plt.legend(['real','false'])\n",
    "plt.grid(True)\n",
    "plt.show()\n",
    "print('real:%.2f'%sparsity(beta_r),'false:%.2f'%sparsity(beta_f))"
   ]
  },
  {
   "cell_type": "code",
   "execution_count": 146,
   "metadata": {},
   "outputs": [
    {
     "data": {
      "text/plain": [
       "array([-1.75488417e+00,  4.08652263e-01, -5.33956948e-06, -4.31610804e-06,\n",
       "       -3.54574502e-07,  2.23642299e-05, -7.08633168e-07, -6.71256770e-06,\n",
       "       -1.51438573e-05,  5.47766270e-06, -1.87636878e-05, -1.62869837e-05,\n",
       "       -7.58620718e-06, -1.58353589e-06,  4.01273213e-06,  1.85665835e-05,\n",
       "       -1.75436900e-05, -1.08302645e-05, -7.55732546e-07, -6.68030904e-06])"
      ]
     },
     "execution_count": 146,
     "metadata": {},
     "output_type": "execute_result"
    }
   ],
   "source": [
    "beta_f[:20]"
   ]
  },
  {
   "cell_type": "code",
   "execution_count": 155,
   "metadata": {},
   "outputs": [],
   "source": [
    "div_f = [[i,i+1]for i in range(p)]\n",
    "beta_f,val_f = sub_dec(x,y,mu,beta0,div_f)"
   ]
  },
  {
   "cell_type": "code",
   "execution_count": 156,
   "metadata": {},
   "outputs": [
    {
     "data": {
      "image/png": "[encoded data removed]",
      "text/plain": [
       "<Figure size 432x288 with 1 Axes>"
      ]
     },
     "metadata": {
      "needs_background": "light"
     },
     "output_type": "display_data"
    }
   ],
   "source": [
    "plt.semilogy(val_f)\n",
    "plt.grid(True)\n",
    "plt.show()"
   ]
  },
  {
   "cell_type": "code",
   "execution_count": 157,
   "metadata": {},
   "outputs": [
    {
     "data": {
      "text/plain": [
       "0.00023962326208139685"
      ]
     },
     "execution_count": 157,
     "metadata": {},
     "output_type": "execute_result"
    }
   ],
   "source": [
    "np.linalg.norm(beta_f-beta,2)"
   ]
  },
  {
   "cell_type": "code",
   "execution_count": 175,
   "metadata": {},
   "outputs": [
    {
     "data": {
      "text/plain": [
       "4.330699365485968e-05"
      ]
     },
     "execution_count": 175,
     "metadata": {},
     "output_type": "execute_result"
    }
   ],
   "source": [
    "f(y,x,beta_r,mu,div)-f(y,x,beta,mu,div)"
   ]
  },
  {
   "cell_type": "code",
   "execution_count": 173,
   "metadata": {},
   "outputs": [
    {
     "data": {
      "text/plain": [
       "array([-1.75488346e+00,  4.08655804e-01, -2.47559639e-05, -4.94892300e-06,\n",
       "        2.17446696e-06,  3.43396522e-05, -1.32634889e-06, -1.96206462e-05,\n",
       "       -1.94920301e-05,  1.36270187e-05])"
      ]
     },
     "execution_count": 173,
     "metadata": {},
     "output_type": "execute_result"
    }
   ],
   "source": [
    "beta_r[:10]"
   ]
  },
  {
   "cell_type": "code",
   "execution_count": 177,
   "metadata": {},
   "outputs": [
    {
     "data": {
      "text/plain": [
       "7.814666148418257e-05"
      ]
     },
     "execution_count": 177,
     "metadata": {},
     "output_type": "execute_result"
    }
   ],
   "source": [
    "np.linalg.norm(beta_r-beta)-np.linalg.norm(beta_f-beta)"
   ]
  },
  {
   "cell_type": "code",
   "execution_count": 116,
   "metadata": {},
   "outputs": [
    {
     "data": {
      "text/plain": [
       "array([-14.87533136,   6.49456383,  -7.0549657 , -17.25125056,\n",
       "        -4.74785628,  -0.80796162, -10.0766024 ,   0.95622717,\n",
       "        -2.60893117,  -4.34605832])"
      ]
     },
     "execution_count": 116,
     "metadata": {},
     "output_type": "execute_result"
    }
   ],
   "source": [
    "y[:10]"
   ]
  },
  {
   "cell_type": "code",
   "execution_count": 125,
   "metadata": {},
   "outputs": [
    {
     "data": {
      "text/plain": [
       "0.001119781342112775"
      ]
     },
     "execution_count": 125,
     "metadata": {},
     "output_type": "execute_result"
    }
   ],
   "source": [
    "np.linalg.norm(y-np.dot(x,beta_f))"
   ]
  },
  {
   "cell_type": "code",
   "execution_count": 127,
   "metadata": {},
   "outputs": [
    {
     "data": {
      "text/plain": [
       "array([-14.87524265,   6.49451218,  -7.05489744, -17.25115369,\n",
       "        -4.74789556,  -0.80808277, -10.07662031,   0.95622001,\n",
       "        -2.60902611,  -4.34608205])"
      ]
     },
     "execution_count": 127,
     "metadata": {},
     "output_type": "execute_result"
    }
   ],
   "source": [
    "np.dot(x,beta_f)[:10]"
   ]
  },
  {
   "cell_type": "code",
   "execution_count": 128,
   "metadata": {},
   "outputs": [
    {
     "data": {
      "text/plain": [
       "10.90157451484927"
      ]
     },
     "execution_count": 128,
     "metadata": {},
     "output_type": "execute_result"
    }
   ],
   "source": [
    "np.linalg.norm(beta)"
   ]
  },
  {
   "cell_type": "code",
   "execution_count": 141,
   "metadata": {},
   "outputs": [
    {
     "data": {
      "text/plain": [
       "0.016979313783943458"
      ]
     },
     "execution_count": 141,
     "metadata": {},
     "output_type": "execute_result"
    }
   ],
   "source": [
    "np.sum(abs(beta_r))*1e-4"
   ]
  },
  {
   "cell_type": "code",
   "execution_count": 106,
   "metadata": {},
   "outputs": [
    {
     "data": {
      "image/png": "[encoded data removed]",
      "text/plain": [
       "<Figure size 432x288 with 1 Axes>"
      ]
     },
     "metadata": {
      "needs_background": "light"
     },
     "output_type": "display_data"
    }
   ],
   "source": [
    "a = x[:,1]/np.linalg.norm(x[:,1])\n",
    "b = x[:,0]/np.linalg.norm(x[:,0])\n",
    "plt.scatter(a,b)\n",
    "plt.show()"
   ]
  },
  {
   "cell_type": "code",
   "execution_count": null,
   "metadata": {},
   "outputs": [],
   "source": []
  }
 ],
 "metadata": {
  "kernelspec": {
   "display_name": "Python 3",
   "language": "python",
   "name": "python3"
  },
  "language_info": {
   "codemirror_mode": {
    "name": "ipython",
    "version": 3
   },
   "file_extension": ".py",
   "mimetype": "text/x-python",
   "name": "python",
   "nbconvert_exporter": "python",
   "pygments_lexer": "ipython3",
   "version": "3.8.3"
  }
 },
 "nbformat": 4,
 "nbformat_minor": 4
}
